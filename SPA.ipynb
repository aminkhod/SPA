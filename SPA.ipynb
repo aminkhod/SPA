{
 "cells": [
  {
   "cell_type": "code",
   "execution_count": 174,
   "metadata": {},
   "outputs": [],
   "source": [
    "from docx import Document\n",
    "from docx.shared import Inches\n",
    "from docx.enum.text import WD_ALIGN_PARAGRAPH\n",
    "from docx.shared import Pt\n",
    "\n",
    "document = Document()\n",
    "\n",
    "\n",
    "paragraph = document.add_paragraph()\n",
    "par_format = paragraph.paragraph_format\n",
    "par_format.alignment = WD_ALIGN_PARAGRAPH.CENTER\n",
    "run= paragraph.add_run('PURCHASE AND SALE AGREEMENT')\n",
    "run.bold = True\n",
    "font = run.font\n",
    "font.name = 'Arial'\n",
    "font.size = Pt(14)\n",
    "\n",
    "\n",
    "paragraph = document.add_paragraph()\n",
    "par_format = paragraph.paragraph_format\n",
    "par_format.alignment = WD_ALIGN_PARAGRAPH.CENTER\n",
    "run= paragraph.add_run('BY AND BETWEEN')\n",
    "run.bold = True\n",
    "font = run.font\n",
    "font.name = 'Nirmala UI'\n",
    "font.size = Pt(9)\n",
    "# print(run.font(size=12,weight='bold'))\n",
    "\n",
    "\n",
    "# from docx.shared import Inches\n",
    "# paragraph = document.add_paragraph()\n",
    "# paragraph_format = paragraph.paragraph_format\n",
    "\n",
    "# paragraph_format.left_indent\n",
    "# # indicating indentation is inherited from the style hierarchy\n",
    "# paragraph_format.left_indent = Inches(0.5)\n",
    "# paragraph_format.left_indent\n",
    "# paragraph_format.left_indent.inches\n",
    "\n",
    "# >>> from docx.shared import Pt\n",
    "# >>> paragraph_format.right_indent\n",
    "# None\n",
    "# >>> paragraph_format.right_indent = Pt(24)\n",
    "# >>> paragraph_format.right_indent\n",
    "# 304800\n",
    "# >>> paragraph_format.right_indent.pt\n",
    "# 24.0\n",
    "\n",
    "p = document.add_paragraph('A plain paragraph having some ')\n",
    "p.add_run('bold').bold = True\n",
    "p.add_run(' and some ')\n",
    "p.add_run('italic.').italic = True\n",
    "\n",
    "\n",
    "document.add_heading('Heading, level 1', level=1)\n",
    "document.add_paragraph('Intense quote', style='Intense Quote')\n",
    "\n",
    "document.add_paragraph(\n",
    "    'first item in unordered list', style='List Bullet'\n",
    ")\n",
    "document.add_paragraph(\n",
    "    'first item in ordered list', style='List Number'\n",
    ")\n",
    "\n",
    "document.add_picture('monty-truth.png', width=Inches(1.25))\n",
    "\n",
    "records = [\n",
    "    ['1','3003 O ANODIZED ALUMINUM TUBING','TONS','47','€       1,882.43','€      88,474.00']\n",
    "    ]\n",
    "\n",
    "table = document.add_table(rows=len(records), cols=6,style='Table Grid')\n",
    "hdr_cells = table.rows[0].cells\n",
    "hdr_cells[0].text = 'SR. NO.'\n",
    "hdr_cells[1].text = 'DESCRIPTION'\n",
    "hdr_cells[2].text = 'UNIT OF MEASUREMENT'\n",
    "hdr_cells[3].text = 'QTY'\n",
    "hdr_cells[4].text = 'UNIT PRICE'\n",
    "hdr_cells[5].text = 'AMOUNT'\n",
    "\n",
    "for SR, DESCRIPTION, UNITOFM, qty, UNITPRICE, AMOUNT in records:\n",
    "    row_cells = table.add_row().cells\n",
    "    row_cells[0].text = str(SR)\n",
    "    row_cells[1].text = DESCRIPTION\n",
    "    row_cells[2].text = UNITOFM\n",
    "    row_cells[3].text = qty\n",
    "    row_cells[4].text = UNITPRICE\n",
    "    row_cells[5].text = AMOUNT\n",
    "\n",
    "document.add_page_break()\n",
    "\n",
    "document.save('demo.docx')"
   ]
  },
  {
   "cell_type": "code",
   "execution_count": 88,
   "metadata": {},
   "outputs": [],
   "source": [
    "doc = Document('spa.docx')"
   ]
  },
  {
   "cell_type": "code",
   "execution_count": 90,
   "metadata": {},
   "outputs": [
    {
     "data": {
      "text/plain": [
       "[<docx.text.paragraph.Paragraph at 0x24b5d730908>,\n",
       " <docx.text.paragraph.Paragraph at 0x24b5d730da0>,\n",
       " <docx.text.paragraph.Paragraph at 0x24b5d7306a0>,\n",
       " <docx.text.paragraph.Paragraph at 0x24b5d7302b0>,\n",
       " <docx.text.paragraph.Paragraph at 0x24b5d7308d0>,\n",
       " <docx.text.paragraph.Paragraph at 0x24b5d730668>,\n",
       " <docx.text.paragraph.Paragraph at 0x24b5d730278>,\n",
       " <docx.text.paragraph.Paragraph at 0x24b5d730898>,\n",
       " <docx.text.paragraph.Paragraph at 0x24b5d730630>,\n",
       " <docx.text.paragraph.Paragraph at 0x24b5d730240>,\n",
       " <docx.text.paragraph.Paragraph at 0x24b5d7305f8>,\n",
       " <docx.text.paragraph.Paragraph at 0x24b5d730208>,\n",
       " <docx.text.paragraph.Paragraph at 0x24b5d730860>,\n",
       " <docx.text.paragraph.Paragraph at 0x24b5d7305c0>,\n",
       " <docx.text.paragraph.Paragraph at 0x24b5d730160>,\n",
       " <docx.text.paragraph.Paragraph at 0x24b5d730828>,\n",
       " <docx.text.paragraph.Paragraph at 0x24b5d730588>,\n",
       " <docx.text.paragraph.Paragraph at 0x24b5d730198>,\n",
       " <docx.text.paragraph.Paragraph at 0x24b5d7307f0>,\n",
       " <docx.text.paragraph.Paragraph at 0x24b5d730550>,\n",
       " <docx.text.paragraph.Paragraph at 0x24b5d7300f0>,\n",
       " <docx.text.paragraph.Paragraph at 0x24b5d730518>,\n",
       " <docx.text.paragraph.Paragraph at 0x24b5d730748>,\n",
       " <docx.text.paragraph.Paragraph at 0x24b5d730470>,\n",
       " <docx.text.paragraph.Paragraph at 0x24b5d730390>,\n",
       " <docx.text.paragraph.Paragraph at 0x24b5d730438>,\n",
       " <docx.text.paragraph.Paragraph at 0x24b5d730400>,\n",
       " <docx.text.paragraph.Paragraph at 0x24b5d7303c8>,\n",
       " <docx.text.paragraph.Paragraph at 0x24b5d727e48>,\n",
       " <docx.text.paragraph.Paragraph at 0x24b5d7279e8>,\n",
       " <docx.text.paragraph.Paragraph at 0x24b5d727e80>,\n",
       " <docx.text.paragraph.Paragraph at 0x24b5d727f98>,\n",
       " <docx.text.paragraph.Paragraph at 0x24b5d727dd8>,\n",
       " <docx.text.paragraph.Paragraph at 0x24b5d7271d0>,\n",
       " <docx.text.paragraph.Paragraph at 0x24b5d727a90>,\n",
       " <docx.text.paragraph.Paragraph at 0x24b5d727080>,\n",
       " <docx.text.paragraph.Paragraph at 0x24b5d727b70>,\n",
       " <docx.text.paragraph.Paragraph at 0x24b5d727358>,\n",
       " <docx.text.paragraph.Paragraph at 0x24b5d727b00>,\n",
       " <docx.text.paragraph.Paragraph at 0x24b5d727128>,\n",
       " <docx.text.paragraph.Paragraph at 0x24b5d727be0>,\n",
       " <docx.text.paragraph.Paragraph at 0x24b5d727c50>,\n",
       " <docx.text.paragraph.Paragraph at 0x24b5d727a20>,\n",
       " <docx.text.paragraph.Paragraph at 0x24b5d727eb8>]"
      ]
     },
     "execution_count": 90,
     "metadata": {},
     "output_type": "execute_result"
    }
   ],
   "source": [
    "doc.paragraphs"
   ]
  },
  {
   "cell_type": "code",
   "execution_count": 91,
   "metadata": {},
   "outputs": [
    {
     "data": {
      "text/plain": [
       "''"
      ]
     },
     "execution_count": 91,
     "metadata": {},
     "output_type": "execute_result"
    }
   ],
   "source": [
    "doc.paragraphs[0].text\n"
   ]
  },
  {
   "cell_type": "code",
   "execution_count": 92,
   "metadata": {},
   "outputs": [
    {
     "data": {
      "text/plain": [
       "0"
      ]
     },
     "execution_count": 92,
     "metadata": {},
     "output_type": "execute_result"
    }
   ],
   "source": [
    "len(doc.paragraphs[1].runs)"
   ]
  },
  {
   "cell_type": "code",
   "execution_count": 93,
   "metadata": {},
   "outputs": [
    {
     "ename": "IndexError",
     "evalue": "list index out of range",
     "output_type": "error",
     "traceback": [
      "\u001b[1;31m---------------------------------------------------------------------------\u001b[0m",
      "\u001b[1;31mIndexError\u001b[0m                                Traceback (most recent call last)",
      "\u001b[1;32m<ipython-input-93-0338f2fa855e>\u001b[0m in \u001b[0;36m<module>\u001b[1;34m\u001b[0m\n\u001b[1;32m----> 1\u001b[1;33m \u001b[0mdoc\u001b[0m\u001b[1;33m.\u001b[0m\u001b[0mparagraphs\u001b[0m\u001b[1;33m[\u001b[0m\u001b[1;36m1\u001b[0m\u001b[1;33m]\u001b[0m\u001b[1;33m.\u001b[0m\u001b[0mruns\u001b[0m\u001b[1;33m[\u001b[0m\u001b[1;36m0\u001b[0m\u001b[1;33m]\u001b[0m\u001b[1;33m.\u001b[0m\u001b[0mtext\u001b[0m\u001b[1;33m\u001b[0m\u001b[1;33m\u001b[0m\u001b[0m\n\u001b[0m",
      "\u001b[1;31mIndexError\u001b[0m: list index out of range"
     ]
    }
   ],
   "source": [
    "doc.paragraphs[1].runs[0].text"
   ]
  },
  {
   "cell_type": "code",
   "execution_count": 94,
   "metadata": {},
   "outputs": [
    {
     "ename": "IndexError",
     "evalue": "list index out of range",
     "output_type": "error",
     "traceback": [
      "\u001b[1;31m---------------------------------------------------------------------------\u001b[0m",
      "\u001b[1;31mIndexError\u001b[0m                                Traceback (most recent call last)",
      "\u001b[1;32m<ipython-input-94-8f9bf5b06aea>\u001b[0m in \u001b[0;36m<module>\u001b[1;34m\u001b[0m\n\u001b[1;32m----> 1\u001b[1;33m \u001b[0mdoc\u001b[0m\u001b[1;33m.\u001b[0m\u001b[0mparagraphs\u001b[0m\u001b[1;33m[\u001b[0m\u001b[1;36m1\u001b[0m\u001b[1;33m]\u001b[0m\u001b[1;33m.\u001b[0m\u001b[0mruns\u001b[0m\u001b[1;33m[\u001b[0m\u001b[1;36m1\u001b[0m\u001b[1;33m]\u001b[0m\u001b[1;33m.\u001b[0m\u001b[0mtext\u001b[0m\u001b[1;33m\u001b[0m\u001b[1;33m\u001b[0m\u001b[0m\n\u001b[0m",
      "\u001b[1;31mIndexError\u001b[0m: list index out of range"
     ]
    }
   ],
   "source": [
    "doc.paragraphs[1].runs[1].text"
   ]
  },
  {
   "cell_type": "code",
   "execution_count": 95,
   "metadata": {},
   "outputs": [
    {
     "ename": "IndexError",
     "evalue": "list index out of range",
     "output_type": "error",
     "traceback": [
      "\u001b[1;31m---------------------------------------------------------------------------\u001b[0m",
      "\u001b[1;31mIndexError\u001b[0m                                Traceback (most recent call last)",
      "\u001b[1;32m<ipython-input-95-b85e02101b0a>\u001b[0m in \u001b[0;36m<module>\u001b[1;34m\u001b[0m\n\u001b[1;32m----> 1\u001b[1;33m \u001b[0mdoc\u001b[0m\u001b[1;33m.\u001b[0m\u001b[0mparagraphs\u001b[0m\u001b[1;33m[\u001b[0m\u001b[1;36m1\u001b[0m\u001b[1;33m]\u001b[0m\u001b[1;33m.\u001b[0m\u001b[0mruns\u001b[0m\u001b[1;33m[\u001b[0m\u001b[1;36m2\u001b[0m\u001b[1;33m]\u001b[0m\u001b[1;33m.\u001b[0m\u001b[0mtext\u001b[0m\u001b[1;33m\u001b[0m\u001b[1;33m\u001b[0m\u001b[0m\n\u001b[0m",
      "\u001b[1;31mIndexError\u001b[0m: list index out of range"
     ]
    }
   ],
   "source": [
    "doc.paragraphs[1].runs[2].text\n"
   ]
  },
  {
   "cell_type": "code",
   "execution_count": 96,
   "metadata": {},
   "outputs": [
    {
     "ename": "IndexError",
     "evalue": "list index out of range",
     "output_type": "error",
     "traceback": [
      "\u001b[1;31m---------------------------------------------------------------------------\u001b[0m",
      "\u001b[1;31mIndexError\u001b[0m                                Traceback (most recent call last)",
      "\u001b[1;32m<ipython-input-96-d022294a0f98>\u001b[0m in \u001b[0;36m<module>\u001b[1;34m\u001b[0m\n\u001b[1;32m----> 1\u001b[1;33m \u001b[0mdoc\u001b[0m\u001b[1;33m.\u001b[0m\u001b[0mparagraphs\u001b[0m\u001b[1;33m[\u001b[0m\u001b[1;36m1\u001b[0m\u001b[1;33m]\u001b[0m\u001b[1;33m.\u001b[0m\u001b[0mruns\u001b[0m\u001b[1;33m[\u001b[0m\u001b[1;36m3\u001b[0m\u001b[1;33m]\u001b[0m\u001b[1;33m.\u001b[0m\u001b[0mtext\u001b[0m\u001b[1;33m\u001b[0m\u001b[1;33m\u001b[0m\u001b[0m\n\u001b[0m",
      "\u001b[1;31mIndexError\u001b[0m: list index out of range"
     ]
    }
   ],
   "source": [
    "doc.paragraphs[1].runs[3].text"
   ]
  },
  {
   "cell_type": "code",
   "execution_count": 97,
   "metadata": {},
   "outputs": [],
   "source": [
    "def getText(filename):\n",
    "    doc = Document(filename)\n",
    "    fullText = []\n",
    "    for para in doc.paragraphs:\n",
    "        fullText.append(' ' + para.text)\n",
    "        if 'NOW THEREFORE' in para.text:\n",
    "            para.text = 'wtf'\n",
    "    return '\\n\\n'.join(fullText)\n"
   ]
  },
  {
   "cell_type": "code",
   "execution_count": 98,
   "metadata": {},
   "outputs": [
    {
     "data": {
      "text/plain": [
       "' \\n\\n \\n\\n \\n\\n \\n\\n PURCHASE AND SALE AGREEMENT\\n\\n \\t\\n\\n BY AND BETWEEN\\n\\n SHANGHAI SEVEN BENEVOLENCE INTERNATIONAL TRADE CO. LTD - SHANGHAI, CHINA\\n\\n Represented by: BEYZADE GENERAL TRADING L.L.C - DUBAI, U.A.E\\n\\n AND\\n\\n SAUREX SPINNING SOULUTION GMBH & CO.KG - GILCHING, GERMANY\\n\\n THIS PURCHASE AND SALE AGREEMENT is entered into this 8TH day of December 2018, by and between SHANGHAI SEVEN BENEVOLENCE INTERNATIONAL TRADE CO. LTD - SHANGHAI, CHINA represented by BEYZADE GENERAL TRADING L.L.C - DUBAI, U.A.E (hereinafter referred as \"Buyer\") with office address at the United Arab Emirates and SAUREX SPINNING SOULUTION GMBH & CO.KG - GILCHING, GERMANY.\\t\\n\\n \\tRECITALS:\\n\\n WHEREAS, the SAUREX SPINNING SOULUTION GMBH & CO.KG - GILCHING, GERMANY and SHANGHAI SEVEN BENEVOLENCE INTERNATIONAL TRADE CO. LTD - SHANGHAI, CHINA represented BEYZADE GENERAL TRADING L.L.C - DUBAI, U.A.E can enter into this Sale and Purchase Agreement and sign pertinent documents with full rights under terms and conditions specified therein;\\n\\n WHEREAS, the SAUREX SPINNING SOULUTION GMBH & CO.KG - GILCHING, GERMANY desires to sell the Products defined below and the SHANGHAI SEVEN BENEVOLENCE INTERNATIONAL TRADE CO. LTD - SHANGHAI, CHINA desires to purchase the Products from SAUREX SPINNING SOULUTION GMBH & CO.KG - GILCHING, GERMANY.\\n\\n NOW THEREFORE, in consideration of the mutual covenants and the agreements herein contained and other goods and valuable (the receipt and sufficiency of which are hereby acknowledged) the parties agree as follows:\\n\\n Sale of Product.  SAUREX SPINNING SOULUTION GMBH & CO.KG - GILCHING, GERMANY hereby sells to SHANGHAI SEVEN BENEVOLENCE INTERNATIONAL TRADE CO. LTD - SHANGHAI, CHINA and SHANGHAI SEVEN BENEVOLENCE INTERNATIONAL TRADE CO. LTD - SHANGHAI, CHINA hereby purchases from SAUREX SPINNING SOULUTION GMBH & CO.KG - GILCHING, GERMANY the product details below:\\n\\n \\n\\n \\n\\n \\n\\n \\n\\n \\n\\n \\n\\n \\n\\n \\n\\n Purchase Price.   SHANGHAI SEVEN BENEVOLENCE INTERNATIONAL TRADE CO. LTD - SHANGHAI, CHINA shall pay to SAUREX SPINNING SOULUTION GMBH & CO.KG - GILCHING, GERMANY for the Products and for all obligations specified herein, as full and complete consideration therefore, the sum of €      88,474.00 (EIGHTY EIGHT THOUSAND FOUR HUNDRED SEVENTY FOUR EUROS ONLY).\\n\\n \\n\\n Payment.  Payment of the Purchase Price shall be made by SHANGHAI SEVEN BENEVOLENCE INTERNATIONAL TRADE CO. LTD - SHANGHAI, CHINA or its representative BEYZADE GENERAL TRADING L.L.C - DUBAI, U.A.E to SAUREX SPINNING SOULUTION GMBH & CO.KG - GILCHING, GERMANY in full payment in advance before the delivery date.\\n\\n \\n\\n Acceptance.   “Acceptance\" of the Product shall be deemed to occur on the date when, in the reasonable opinion of SHANGHAI SEVEN BENEVOLENCE INTERNATIONAL TRADE CO. LTD - SHANGHAI, CHINA the Product conforms to the Specifications, and has continuously operated in compliance with the Specifications for thirty (30) days after Product Turnover\\n\\n \\n\\n Indemnification. In the event either party breaches or is deemed to have breached any of the representations and warranties contained in this Agreement, or fails to perform or comply with any of the covenants and agreements set forth in this Agreement, it shall hold harmless, indemnify and defend the other party, and its directors, officers, shareholders, attorneys, representatives and agents, from and against any damages incurred by the non-defaulting party. \\n\\n \\n\\n General. SAUREX SPINNING SOULUTION GMBH & CO.KG - GILCHING, GERMANY shall perform this Agreement in compliance with all applicable local laws, rules, regulations, and ordinances, and represents that it shall have obtained all licenses and permits required by law to engage in the activities necessary to perform its obligations under this Agreement.  \\n\\n \\n\\n \\n\\n \\n\\n ________________________________________\\n\\n SAUREX SPINNING SOULUTION GMBH & CO.KG - GILCHING, GERMANY\\n\\n \\n\\n \\n\\n \\n\\n _____________________________________________________________________________________________   \\n\\n SHANGHAI SEVEN BENEVOLENCE INTERNATIONAL TRADE CO. LTD - SHANGHAI, CHINA'"
      ]
     },
     "execution_count": 98,
     "metadata": {},
     "output_type": "execute_result"
    }
   ],
   "source": [
    "getText('spa.docx')"
   ]
  },
  {
   "cell_type": "code",
   "execution_count": 104,
   "metadata": {},
   "outputs": [],
   "source": [
    "doc = Document('dem.docx')\n",
    "fullText = []\n",
    "for para in doc.paragraphs:\n",
    "    fullText.append(' ' + para.text)\n",
    "    if 'NOW THEREFORE' in para.text:\n",
    "        para.text = 'wtf'\n",
    "doc.save('dem.docx')"
   ]
  },
  {
   "cell_type": "code",
   "execution_count": null,
   "metadata": {},
   "outputs": [],
   "source": []
  }
 ],
 "metadata": {
  "kernelspec": {
   "display_name": "Python 3",
   "language": "python",
   "name": "python3"
  },
  "language_info": {
   "codemirror_mode": {
    "name": "ipython",
    "version": 3
   },
   "file_extension": ".py",
   "mimetype": "text/x-python",
   "name": "python",
   "nbconvert_exporter": "python",
   "pygments_lexer": "ipython3",
   "version": "3.6.7"
  }
 },
 "nbformat": 4,
 "nbformat_minor": 2
}
